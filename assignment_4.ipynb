{
 "cells": [
  {
   "cell_type": "markdown",
   "id": "c67b7a0d",
   "metadata": {},
   "source": [
    "###  Problem 1 "
   ]
  },
  {
   "cell_type": "markdown",
   "id": "af6c43ba",
   "metadata": {},
   "source": [
    "Time complexity(O(n)) \n",
    "\n",
    "What makes this highly efficient is the usage of the dictionary data structure (Hashing)"
   ]
  },
  {
   "cell_type": "code",
   "execution_count": 406,
   "id": "4a90acaa",
   "metadata": {},
   "outputs": [],
   "source": [
    "def equal_set_lists(a,b):\n",
    "    dict_= {}\n",
    "    visited_dict = {}\n",
    "    for element in a:\n",
    "        if dict_.get(element) == None:\n",
    "            dict_[element] = 1\n",
    "            \n",
    "    for element in b:\n",
    "        if dict_.get(element) == None:\n",
    "                return False\n",
    "        else:\n",
    "            dict_[element] = 'v'\n",
    "    \n",
    "    for x in dict_.values():\n",
    "        if x != 'v':\n",
    "            return False\n",
    "    return True "
   ]
  },
  {
   "cell_type": "code",
   "execution_count": 410,
   "id": "f2ecccbf",
   "metadata": {},
   "outputs": [
    {
     "data": {
      "text/plain": [
       "True"
      ]
     },
     "execution_count": 410,
     "metadata": {},
     "output_type": "execute_result"
    }
   ],
   "source": [
    "a = [1,1,2,2,3,3]\n",
    "b = [1,2,3]\n",
    "equal_set_lists(a,b)"
   ]
  },
  {
   "cell_type": "code",
   "execution_count": 411,
   "id": "c44a1938",
   "metadata": {},
   "outputs": [
    {
     "data": {
      "text/plain": [
       "False"
      ]
     },
     "execution_count": 411,
     "metadata": {},
     "output_type": "execute_result"
    }
   ],
   "source": [
    "a = [1,1,2,2,3,3,5]\n",
    "b = [1,2,3]\n",
    "equal_set_lists(a,b)"
   ]
  },
  {
   "cell_type": "markdown",
   "id": "c624fdf0",
   "metadata": {},
   "source": [
    "### Problem 2"
   ]
  },
  {
   "cell_type": "markdown",
   "id": "09e12090",
   "metadata": {},
   "source": [
    "In order to solve this approach we must use the radix sort approach, the reason for this is that counting sort is linear only in the case when elements are in the range of 1 to k (Complexity O(n+k)). However we are given here the case that the numbers range from 1 to n^2.\n",
    "In the given scenario counting sort will have a time complexity of O(n^2) which is worse than many other sorting techniques. Radix sort can give us a time complexity of:(referred from http://syllabus.cs.manchester.ac.uk/ugt/2019/COMP26120/SortingTool/radix_sort_info.html#:~:text=The%20time%20complexity%20of%20radix,base%2010%20for%20decimal%20representation.)\n",
    "\n",
    "T(n) = O(d*(n+b)):\n",
    "\n",
    "where d is the number of digits in the given list, n is the number of elements in the list, and b is the base or bucket size used, which is normally base 10 for decimal representation.\n",
    "\n",
    "How the algorithm works : \n",
    "1) Sort based on least significant digits\n",
    "2) Sort based on the next places i.e. 10s place, 100s place ...\n",
    "3) Finally Sort based on the most significant place. "
   ]
  },
  {
   "cell_type": "markdown",
   "id": "082ac01b",
   "metadata": {},
   "source": [
    "###  Problem 3"
   ]
  },
  {
   "cell_type": "markdown",
   "id": "d1c651de",
   "metadata": {},
   "source": [
    "Time complexity : O(n)"
   ]
  },
  {
   "cell_type": "code",
   "execution_count": 413,
   "id": "0dcb00ff",
   "metadata": {},
   "outputs": [],
   "source": [
    "def duplicate_check(arr):\n",
    "    dict_ = {}\n",
    "    for element in arr:\n",
    "        if dict_.get(element) == None:\n",
    "            dict_[element] = 1\n",
    "        else:\n",
    "            dict_[element] += 1\n",
    "    for val in dict_.values():\n",
    "        if val > 1:\n",
    "            return True\n",
    "    return False"
   ]
  },
  {
   "cell_type": "code",
   "execution_count": 416,
   "id": "a8174d52",
   "metadata": {},
   "outputs": [
    {
     "data": {
      "text/plain": [
       "True"
      ]
     },
     "execution_count": 416,
     "metadata": {},
     "output_type": "execute_result"
    }
   ],
   "source": [
    "a = [1,1,2,2,3,5]\n",
    "duplicate_check(a)"
   ]
  },
  {
   "cell_type": "code",
   "execution_count": 415,
   "id": "3155207c",
   "metadata": {},
   "outputs": [
    {
     "data": {
      "text/plain": [
       "False"
      ]
     },
     "execution_count": 415,
     "metadata": {},
     "output_type": "execute_result"
    }
   ],
   "source": [
    "a = [1,2,3,5]\n",
    "duplicate_check(a)"
   ]
  },
  {
   "cell_type": "markdown",
   "id": "22dcf3f8",
   "metadata": {},
   "source": [
    "### Problem 4 - Merge Sort  [ a Top Down implementation ]"
   ]
  },
  {
   "cell_type": "markdown",
   "id": "9958ee23",
   "metadata": {},
   "source": [
    "Time complexity : O(nlogn)"
   ]
  },
  {
   "cell_type": "code",
   "execution_count": 394,
   "id": "5545e35a",
   "metadata": {},
   "outputs": [],
   "source": [
    "def merge(a,b):\n",
    "    op = []\n",
    "    i = j = 0\n",
    "    len_a = len(a)\n",
    "    len_b = len(b)\n",
    "\n",
    "    while i<len_a and j<len_b:\n",
    "        if a[i]<b[j]:\n",
    "            op.append(a[i])\n",
    "            i+=1\n",
    "        else:\n",
    "            op.append(b[j])\n",
    "            j+=1\n",
    "    if i>=len_a:\n",
    "\n",
    "        op.extend(b[j:])\n",
    "    else:\n",
    "        op.extend(a[i:])\n",
    "    return op"
   ]
  },
  {
   "cell_type": "code",
   "execution_count": 395,
   "id": "212bfd11",
   "metadata": {},
   "outputs": [],
   "source": [
    "def mergeSort(arr,start,end):\n",
    "    if start == end:\n",
    "        return [arr[start]]\n",
    "    else:\n",
    "        mid = (start+end)//2\n",
    "        return merge(mergeSort(arr,start,mid),mergeSort(arr,mid+1,end))"
   ]
  },
  {
   "cell_type": "code",
   "execution_count": 396,
   "id": "8e25dc90",
   "metadata": {},
   "outputs": [],
   "source": [
    "lst_in = [56,12,44,87,23,66,0,45,3,1,9,29,5,5,5,5,5]"
   ]
  },
  {
   "cell_type": "code",
   "execution_count": 397,
   "id": "1aa15b4c",
   "metadata": {},
   "outputs": [],
   "source": [
    "# lst_in = ['z','a','d','e','r','y','s','y','y','g','z','r','s','z']"
   ]
  },
  {
   "cell_type": "code",
   "execution_count": 398,
   "id": "e69253d3",
   "metadata": {},
   "outputs": [
    {
     "name": "stdout",
     "output_type": "stream",
     "text": [
      "[0, 1, 3, 5, 5, 5, 5, 5, 9, 12, 23, 29, 44, 45, 56, 66, 87]\n"
     ]
    }
   ],
   "source": [
    "print(mergeSort(lst_in,0,len(lst_in)-1))"
   ]
  },
  {
   "cell_type": "markdown",
   "id": "10f0c8fc",
   "metadata": {},
   "source": [
    "### Problem 5 - Heap Sort [Following the approach given in the HW Question]"
   ]
  },
  {
   "cell_type": "markdown",
   "id": "a354323b",
   "metadata": {},
   "source": [
    "Time complexity : O(nlogn)"
   ]
  },
  {
   "cell_type": "code",
   "execution_count": 309,
   "id": "42e08321",
   "metadata": {},
   "outputs": [],
   "source": [
    "def max_heapify(arr,n,i):\n",
    "    l = 2*i + 1\n",
    "    r = 2*i + 2\n",
    "    \n",
    "    if l < n and arr[l]>arr[i]:\n",
    "        largest = l\n",
    "    else:\n",
    "        largest = i\n",
    "\n",
    "    if r < n and arr[r]>arr[largest]:\n",
    "        largest = r\n",
    "        \n",
    "    if largest != i:\n",
    "        arr[i],arr[largest] = arr[largest],arr[i]\n",
    "        max_heapify(arr,n,largest)"
   ]
  },
  {
   "cell_type": "code",
   "execution_count": 310,
   "id": "fd75cf62",
   "metadata": {},
   "outputs": [],
   "source": [
    "def build_max_heap(arr):\n",
    "    input_len = len(arr)\n",
    "    for i in range(input_len//2-1,-1,-1):\n",
    "        max_heapify(arr,input_len,i)"
   ]
  },
  {
   "cell_type": "code",
   "execution_count": 311,
   "id": "25115ed7",
   "metadata": {},
   "outputs": [],
   "source": [
    "def heap_sort(arr):\n",
    "    build_max_heap(arr)\n",
    "    input_len = len(arr)\n",
    "    for i in range(input_len-1,0,-1):\n",
    "        arr[i],arr[0] = arr[0],arr[i]\n",
    "        max_heapify(arr,i,0)"
   ]
  },
  {
   "cell_type": "code",
   "execution_count": 312,
   "id": "b5ac1d4e",
   "metadata": {},
   "outputs": [],
   "source": [
    "lst_in = [56,12,44,87,23,66,0,45,3,1,9,29,5,5,5,5,5]"
   ]
  },
  {
   "cell_type": "code",
   "execution_count": 313,
   "id": "676d348a",
   "metadata": {},
   "outputs": [],
   "source": [
    "heap_sort(lst_in)"
   ]
  },
  {
   "cell_type": "code",
   "execution_count": 314,
   "id": "f0b99c5b",
   "metadata": {},
   "outputs": [
    {
     "data": {
      "text/plain": [
       "[0, 1, 3, 5, 5, 5, 5, 5, 9, 12, 23, 29, 44, 45, 56, 66, 87]"
      ]
     },
     "execution_count": 314,
     "metadata": {},
     "output_type": "execute_result"
    }
   ],
   "source": [
    "lst_in"
   ]
  },
  {
   "cell_type": "markdown",
   "id": "b2206cc3",
   "metadata": {},
   "source": [
    "### Problem 6 - Counting Sort [Following the approach given in the HW Question]"
   ]
  },
  {
   "cell_type": "markdown",
   "id": "7691135c",
   "metadata": {},
   "source": [
    "O(n+k) when numbers are in range 1 to k"
   ]
  },
  {
   "cell_type": "code",
   "execution_count": 350,
   "id": "4b3a31d8",
   "metadata": {},
   "outputs": [],
   "source": [
    "def counting_sort(arr):\n",
    "    k = max(arr)\n",
    "    c = [0 for x in range(0,k+1)]\n",
    "    b = [0]*len(arr)\n",
    "    arr_len = len(arr)\n",
    "    for j in range(0,arr_len):\n",
    "        c[arr[j]]+=1\n",
    "    for i in range(1,k+1):\n",
    "        c[i]+=c[i-1]\n",
    "    for j in range(arr_len-1,-1,-1):\n",
    "        b[c[arr[j]]-1] = arr[j]\n",
    "        c[arr[j]]-=1 \n",
    "    return b"
   ]
  },
  {
   "cell_type": "code",
   "execution_count": 351,
   "id": "28489f71",
   "metadata": {},
   "outputs": [
    {
     "data": {
      "text/plain": [
       "[0, 1, 3, 5, 5, 5, 5, 5, 9, 12, 23, 29, 44, 45, 56, 66, 87]"
      ]
     },
     "execution_count": 351,
     "metadata": {},
     "output_type": "execute_result"
    }
   ],
   "source": [
    "lst_in = [56,12,44,87,23,66,0,45,3,1,9,29,5,5,5,5,5]\n",
    "counting_sort(lst_in)"
   ]
  },
  {
   "cell_type": "markdown",
   "id": "ba2a4d47",
   "metadata": {},
   "source": [
    "### Problem 7 - Bucket Sort [Following the approach given in the HW Question with some modifications]"
   ]
  },
  {
   "cell_type": "markdown",
   "id": "4fd61d0f",
   "metadata": {},
   "source": [
    " O(n + k) in avg case O(n^2) worst case"
   ]
  },
  {
   "cell_type": "markdown",
   "id": "4a2af852",
   "metadata": {},
   "source": [
    "The below Block of code for insertion sort was referred from geeks for geeks : https://www.geeksforgeeks.org/insertion-sort/ "
   ]
  },
  {
   "cell_type": "code",
   "execution_count": 353,
   "id": "ddf7c874",
   "metadata": {},
   "outputs": [],
   "source": [
    "def ins_sort(arr):\n",
    "    for i in range(1, len(arr)):\n",
    "        key = arr[i]\n",
    "        j = i-1\n",
    "        while j >= 0 and key < arr[j] :\n",
    "                arr[j + 1] = arr[j]\n",
    "                j -= 1\n",
    "        arr[j + 1] = key\n",
    "    print(arr)"
   ]
  },
  {
   "cell_type": "code",
   "execution_count": 364,
   "id": "7b3ba647",
   "metadata": {},
   "outputs": [],
   "source": [
    "def bucket_sort_dec(arr): # works for decimal numbers \n",
    "    n = len(arr)\n",
    "    b = [[] for x in range(n)]\n",
    "    for i in range(n):\n",
    "        b[int(n*arr[i])].append(arr[i])\n",
    "    for i in range(n):\n",
    "        ins_sort(b[i])\n",
    "    output = []\n",
    "    for lst in b:\n",
    "        output.extend(lst)\n",
    "    return output"
   ]
  },
  {
   "cell_type": "code",
   "execution_count": 392,
   "id": "1549e7c6",
   "metadata": {},
   "outputs": [
    {
     "data": {
      "text/plain": [
       "[0.1, 0.2, 0.3663, 0.49, 0.59]"
      ]
     },
     "execution_count": 392,
     "metadata": {},
     "output_type": "execute_result"
    }
   ],
   "source": [
    "bucket_sort_dec([0.2,0.1,0.59,0.49,0.3663])"
   ]
  },
  {
   "cell_type": "code",
   "execution_count": 389,
   "id": "e45ea5f5",
   "metadata": {},
   "outputs": [],
   "source": [
    "def bucket_sort_int(arr): # Works for only double digit numbers (with decimals also)  \n",
    "    n = len(arr)\n",
    "    b = [[] for x in range(1,11)]\n",
    "    for i in range(n):\n",
    "        b[int(arr[i]/10)].append(arr[i])\n",
    "    for i in range(n):\n",
    "        ins_sort(b[i])\n",
    "    output = []\n",
    "    for lst in b:\n",
    "        output.extend(lst)\n",
    "    return output"
   ]
  },
  {
   "cell_type": "code",
   "execution_count": 393,
   "id": "23523330",
   "metadata": {},
   "outputs": [
    {
     "data": {
      "text/plain": [
       "[16, 25, 29.3, 30.1, 35.45, 51]"
      ]
     },
     "execution_count": 393,
     "metadata": {},
     "output_type": "execute_result"
    }
   ],
   "source": [
    "bucket_sort_int([16,30.1,51,25,29.3,35.45])"
   ]
  }
 ],
 "metadata": {
  "kernelspec": {
   "display_name": "Python 3",
   "language": "python",
   "name": "python3"
  },
  "language_info": {
   "codemirror_mode": {
    "name": "ipython",
    "version": 3
   },
   "file_extension": ".py",
   "mimetype": "text/x-python",
   "name": "python",
   "nbconvert_exporter": "python",
   "pygments_lexer": "ipython3",
   "version": "3.8.8"
  }
 },
 "nbformat": 4,
 "nbformat_minor": 5
}
